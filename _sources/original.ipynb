{
 "cells": [
  {
   "cell_type": "markdown",
   "metadata": {
    "id": "TivnK9rQmGUu"
   },
   "source": [
    "# **Propuesta de modelo original**\n"
   ]
  },
  {
   "cell_type": "markdown",
   "metadata": {},
   "source": [
    "En la búsqueda de una propuesta original para nuestro proyecto, exploramos enfoques novedosos que no se hayan aplicado previamente al análisis de la velocidad del viento. Durante nuestra revisión de literatura, encontramos un artículo titulado ***\"Performance evaluation of hybrid WOA-XGBoost, GWO-XGBoost, and BO-XGBoost models to predict blast-induced ground vibration\"***. Este estudio utiliza modelos híbridos basados en técnicas avanzadas de aprendizaje automático y algoritmos de optimización metaheurística para predecir vibraciones en el suelo inducidas por explosiones. Su enfoque innovador y la combinación de metodologías podrían ofrecer valiosas ideas para adaptarlas al contexto del comportamiento del viento, abriendo nuevas posibilidades de investigación en nuestro campo."
   ]
  },
  {
   "cell_type": "markdown",
   "metadata": {},
   "source": [
    "A continuación se presenta un breve resumen sobre el estudio, con el fin de entender y garantizar los resultados en nuestro proyecto: \n",
    "\n",
    "### **Resumen:**\n",
    "\n",
    "Este artículo aborda la predicción precisa de la velocidad máxima de partícula (PPV) causada por vibraciones en el suelo debido a explosiones, un desafío clave en la minería para prevenir daños en infraestructuras cercanas. Los autores desarrollaron tres modelos híbridos basados en el algoritmo XGBoost combinado con optimizaciones metaheurísticas: **Whale Optimization Algorithm (WOA)**, **Gray Wolf Optimization (GWO)** y **Bayesian Optimization (BO)**.\n",
    "\n",
    "### **Metodología:**\n",
    "1. **Datos de entrada:** 150 registros de datos experimentales con 13 variables relacionadas con el diseño de la explosión, las propiedades geotécnicas y la distancia al punto de monitoreo.\n",
    "2. **Modelos probados:**\n",
    "   - Híbridos: WOA-XGBoost, GWO-XGBoost y BO-XGBoost.\n",
    "   - Comparativos: Modelos individuales como XGBoost, CatBoost, Random Forest y Gradient Boosting Regression (GBR).\n",
    "3. **Evaluación del desempeño:** Se utilizaron métricas como el error cuadrático medio (RMSE), el coeficiente de determinación (R²), el error absoluto medio (MAE) y la varianza explicada (VAF).\n",
    "\n",
    "### **Resultados:**\n",
    "- El modelo **WOA-XGBoost** mostró el mejor desempeño con un **RMSE de 3.05**, **R² de 0.9757** y **MAE de 2.50**, superando a los modelos GWO-XGBoost y BO-XGBoost.\n",
    "- Los modelos híbridos superaron consistentemente a los enfoques convencionales en precisión y capacidad predictiva.\n",
    "\n",
    "### **Conclusiones:**\n",
    "- La integración de algoritmos de optimización metaheurística mejora significativamente la precisión de los modelos XGBoost para predecir la PPV.\n",
    "- El modelo WOA-XGBoost se considera el más fiable para aplicaciones prácticas en minería.\n",
    "- Limitaciones: La cantidad limitada de datos (150 conjuntos) podría afectar la generalización de los resultados.\n"
   ]
  },
  {
   "cell_type": "markdown",
   "metadata": {},
   "source": [
    "# **Aplicación en proyecto sobre velocidad del viento**"
   ]
  },
  {
   "cell_type": "markdown",
   "metadata": {},
   "source": [
    "<div style=\"text-align: justify; margin-bottom: 20px;\">\n",
    "    En nuestro proyecto, aplicaremos los algoritmos de optimización metaheurística descritos en el artículo para analizar su efectividad en la predicción de la velocidad del viento. Estos algoritmos, como el <b>Gray Wolf Optimization (GWO)</b>, el <b>Whale Optimization Algorithm (WOA)</b> y la <b>Bayesian Optimization (BO)</b>, destacan por su capacidad para ajustar hiperparámetros y mejorar el rendimiento de modelos de aprendizaje automático en problemas complejos y no lineales. Además de evaluar la precisión de estos modelos híbridos, exploraremos su capacidad para reducir los tiempos de ejecución en comparación con los modelos de regresión ya implementados en nuestro trabajo: KNN, Linear, Ridge, Lasso, Tree Decision, Random Forest, XGBoost y SVR. Este análisis nos permitirá determinar si los enfoques optimizados pueden ofrecer ventajas significativas tanto en rendimiento predictivo como en eficiencia computacional, aspectos cruciales para proyectos futuros donde se manejen grandes volúmenes de datos meteorológicos y escalar hacia aplicaciones prácticas como sistemas en tiempo real.\n",
    "</div>"
   ]
  }
 ],
 "metadata": {
  "colab": {
   "provenance": []
  },
  "kernelspec": {
   "display_name": "Python 3",
   "name": "python3"
  },
  "language_info": {
   "name": "python"
  }
 },
 "nbformat": 4,
 "nbformat_minor": 0
}
