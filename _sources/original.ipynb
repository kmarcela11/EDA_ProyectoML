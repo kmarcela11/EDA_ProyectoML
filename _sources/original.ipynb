{
 "cells": [
  {
   "cell_type": "markdown",
   "metadata": {},
   "source": [
    "# **Propuesta de modelo original**"
   ]
  },
  {
   "cell_type": "markdown",
   "metadata": {},
   "source": [
    "El artículo **\"Hybrid evolutionary algorithms in a SVR-based electric load forecasting model\"** de Wei-Chiang Hong presenta un enfoque innovador que combina **algoritmos evolutivos híbridos** y **regresión de soporte vectorial (SVR)** para abordar la predicción de cargas eléctricas en datos no lineales. Aunque originalmente se aplica en el campo de la predicción de carga eléctrica, este enfoque puede adaptarse a la predicción de velocidades del viento por sus características similares de no linealidad y dependencia de múltiples factores.\n",
    "\n",
    "### Puntos clave del enfoque:\n",
    "1. **Uso de SVR**: La SVR es conocida por su capacidad para modelar relaciones no lineales y minimizar errores de generalización, a diferencia de modelos como redes neuronales que minimizan errores de entrenamiento.\n",
    "2. **Algoritmo Genético Caótico (CGA)**: Este algoritmo mejora la selección de parámetros en la SVR al evitar convergencias prematuras y optimizar el ajuste global. Esto es útil en problemas complejos como los sistemas dinámicos del viento.\n",
    "3. **Comparación y validación**: El modelo propuesto supera a otros métodos como ANN, SVM con algoritmos genéticos convencionales, y modelos de regresión en términos de rendimiento predictivo.\n",
    "\n",
    "### Propuesta para adaptar el modelo a la velocidad del viento:\n",
    "- **Características del dataset**: Utilizar datos históricos de velocidad del viento, incluyendo variables como temperatura, humedad, presión y estacionalidad.\n",
    "- **Preprocesamiento**: Aplicar técnicas como normalización y descomposición de series temporales para capturar patrones subyacentes.\n",
    "- **Adaptación del CGA-SVR**:\n",
    "  - Usar el algoritmo genético caótico para ajustar los hiperparámetros de la SVR (parámetro del kernel, margen de tolerancia, etc.).\n",
    "  - Entrenar y validar con particiones de datos (T=7, 14, 21, 28 días).\n",
    "- **Evaluación**: Comparar el rendimiento utilizando métricas como RMSE, MAPE y R², asegurando la normalidad e independencia de los residuos."
   ]
  },
  {
   "cell_type": "markdown",
   "metadata": {},
   "source": [
    "https://www.sciencedirect.com/science/article/abs/pii/S1352231018308823?via%3Dihub "
   ]
  }
 ],
 "metadata": {
  "language_info": {
   "name": "python"
  }
 },
 "nbformat": 4,
 "nbformat_minor": 2
}
