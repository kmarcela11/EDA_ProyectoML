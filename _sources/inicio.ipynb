{
 "cells": [
  {
   "cell_type": "markdown",
   "metadata": {},
   "source": [
    "<div style=\"text-align: center;\">\n",
    "    <h1 style=\"font-size: 3em;\"><b>De Vientos y Datos</b></h1>\n",
    "</div>\n",
    "\n",
    "<div style=\"text-align: center; margin-bottom: 20px;\">\n",
    "    <img src=\"https://github.com/kmarcela11/ProyectoFinal_EnergiaEolica/blob/main/intro.png?raw=true\" alt=\"Intro Image\" width=\"400\"/>\n",
    "</div>\n",
    "\n",
    "### **Contextualización del Proyecto**\n",
    "\n",
    "<div style=\"text-align: justify; margin-bottom: 20px;\">\n",
    "    La energía eólica se ha convertido en una fuente clave de generación de electricidad sostenible, especialmente en regiones donde el viento es abundante y constante. Para optimizar la producción de energía eólica, es fundamental comprender las características del viento en distintas alturas, así como otros factores climáticos que pueden influir en su comportamiento. En este contexto, el presente proyecto tiene como objetivo analizar y modelar datos meteorológicos para mejorar la toma de decisiones en la gestión de recursos energéticos en una región costera.\n",
    "</div>\n",
    "\n",
    "<div style=\"text-align: justify; margin-bottom: 20px;\">\n",
    "    La variabilidad del viento y de las condiciones climáticas presenta desafíos significativos para la predicción precisa de la energía generada. Este proyecto busca explorar y entender la relación entre variables como la velocidad y dirección del viento, la temperatura, la presión y la humedad a diferentes alturas, utilizando un conjunto de datos recolectado a lo largo de varios meses en intervalos regulares de 10 minutos. Los datos se obtienen mediante sensores ubicados estratégicamente a distintas alturas, lo cual permite obtener una visión detallada del comportamiento de la atmósfera en niveles superiores y su impacto en el rendimiento de los aerogeneradores.\n",
    "</div>\n",
    "\n",
    "<div style=\"text-align: justify; margin-bottom: 20px;\">\n",
    "    El análisis de los datos se centra en establecer patrones y tendencias en estas variables, lo que a su vez permitirá mejorar los modelos predictivos aplicados a la generación de energía. Además, la creación de dashboards interactivos facilitará a los operadores la comprensión y monitoreo en tiempo real de las condiciones climáticas, optimizando así la eficiencia en la producción energética y fortaleciendo la seguridad y sostenibilidad de las operaciones en la región de estudio.\n",
    "</div>\n",
    "\n",
    "### **Objetivos del Proyecto**\n",
    "\n",
    "<div style=\"text-align: justify;\">\n",
    "    <ul style=\"margin-bottom: 20px;\">\n",
    "        <li><b>Realizar un análisis exploratorio de datos (EDA)</b> para identificar patrones y tendencias en las variables meteorológicas recolectadas, como la velocidad y dirección del viento, temperatura, presión y humedad.</li>\n",
    "        <li><b>Evaluar la calidad de los datos</b> y detectar posibles inconsistencias, valores atípicos o datos faltantes que puedan afectar el proceso de modelado.</li>\n",
    "        <li><b>Aplicar modelos de Machine Learning </b> y modelar la relación entre las variables climáticas y la velocidad del viento, desarrollando así modelos predictivos que permitan optimizar la producción de energía eólica.</li>\n",
    "        <li><b>Diseñar dashboards interactivos</b> que faciliten la interpretación de los resultados del análisis y el monitoreo en tiempo real de las condiciones climáticas.</li>\n",
    "        <li><b>Proporcionar recomendaciones basadas en los hallazgos del análisis</b> para mejorar la eficiencia y seguridad de la operación de aerogeneradores en la región costera.</li>\n",
    "    </ul>\n",
    "</div>"
   ]
  }
 ],
 "metadata": {
  "language_info": {
   "name": "python"
  }
 },
 "nbformat": 4,
 "nbformat_minor": 2
}
