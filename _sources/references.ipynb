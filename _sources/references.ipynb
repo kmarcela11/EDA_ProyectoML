{
 "cells": [
  {
   "cell_type": "markdown",
   "metadata": {},
   "source": [
    "# **Bibliografía**"
   ]
  },
  {
   "cell_type": "markdown",
   "metadata": {},
   "source": [
    "\n",
    "> [1] R. Elakkiya and E. Duraisamy, \"Performance evaluation of hybrid WOA-XGBoost, GWO-XGBoost, and BO-XGBoost models to predict blast-induced ground vibration,\" *ResearchGate*, 2021. [URL](https://www.researchgate.net/publication/351063824_Performance_evaluation_of_hybrid_WOA-XGBoost_GWO-XGBoost_and_BO-XGBoost_models_to_predict_blast-induced_ground_vibration).\n"
   ]
  }
 ],
 "metadata": {
  "language_info": {
   "name": "python"
  }
 },
 "nbformat": 4,
 "nbformat_minor": 2
}
